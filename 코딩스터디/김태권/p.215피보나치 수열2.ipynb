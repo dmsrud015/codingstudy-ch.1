{
 "cells": [
  {
   "cell_type": "code",
   "execution_count": 13,
   "id": "1da6afb1",
   "metadata": {},
   "outputs": [
    {
     "name": "stdout",
     "output_type": "stream",
     "text": [
      "83621143489848422977\n",
      "1\n",
      "1\n",
      "2\n",
      "1\n"
     ]
    }
   ],
   "source": [
    "# 앞서 계산된 결과를 저장하기 위한 DP 테이블 초기화\n",
    "d = [0] * 100\n",
    "\n",
    "# 첫 번째 피보나치 수와 두 번째 피보나치 수는 1\n",
    "d[1] = 1\n",
    "d[3] = 2\n",
    "d[4] = 3\n",
    "d[5] = 5\n",
    "#d[3] = d[2] + d[0]= 1???\n",
    "#d[4] = d[3] + d[1]= 1+1=2\n",
    "\n",
    "n = 99\n",
    "\n",
    "# 피보나치 함수(Fibonacci Function) 반복문으로 구현(보텀업 다이나믹 프로그래밍)\n",
    "for i in range(3, n + 1):\n",
    "    d[i] = d[i - 1] + d[i - 2]\n",
    "print(d[n])\n",
    "print(d[3])\n",
    "print(d[4])\n",
    "print(d[5])\n",
    "print(d[4])\n",
    "#3부터 100까지 d[i] = d[i - 1] + d[i - 2]을 실행한다....\n",
    "\n",
    "\n",
    "# d = [0] * 100 이건 대체 뭘까??"
   ]
  },
  {
   "cell_type": "code",
   "execution_count": null,
   "id": "f39fa0d7",
   "metadata": {},
   "outputs": [],
   "source": []
  }
 ],
 "metadata": {
  "kernelspec": {
   "display_name": "Python 3 (ipykernel)",
   "language": "python",
   "name": "python3"
  },
  "language_info": {
   "codemirror_mode": {
    "name": "ipython",
    "version": 3
   },
   "file_extension": ".py",
   "mimetype": "text/x-python",
   "name": "python",
   "nbconvert_exporter": "python",
   "pygments_lexer": "ipython3",
   "version": "3.9.13"
  }
 },
 "nbformat": 4,
 "nbformat_minor": 5
}
